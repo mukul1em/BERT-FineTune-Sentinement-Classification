{
 "cells": [
  {
   "cell_type": "code",
   "execution_count": 48,
   "metadata": {},
   "outputs": [],
   "source": [
    "import sys  \n",
    "sys.path.insert(0, './src')\n",
    "from src import config \n",
    "import torch.nn as nn\n",
    "import os\n",
    "import torch\n",
    "from src.model import BERTBaseUncased\n",
    "device = torch.device('cuda')"
   ]
  },
  {
   "cell_type": "code",
   "execution_count": 49,
   "metadata": {},
   "outputs": [
    {
     "name": "stderr",
     "output_type": "stream",
     "text": [
      "Some weights of the model checkpoint at bert-base-uncased were not used when initializing BertModel: ['cls.predictions.transform.dense.bias', 'cls.predictions.bias', 'cls.seq_relationship.weight', 'cls.predictions.transform.LayerNorm.bias', 'cls.predictions.transform.dense.weight', 'cls.seq_relationship.bias', 'cls.predictions.decoder.weight', 'cls.predictions.transform.LayerNorm.weight']\n",
      "- This IS expected if you are initializing BertModel from the checkpoint of a model trained on another task or with another architecture (e.g. initializing a BertForSequenceClassification model from a BertForPreTraining model).\n",
      "- This IS NOT expected if you are initializing BertModel from the checkpoint of a model that you expect to be exactly identical (initializing a BertForSequenceClassification model from a BertForSequenceClassification model).\n"
     ]
    }
   ],
   "source": [
    "model = BERTBaseUncased()\n",
    "# model = nn.DataParallel(model)\n",
    "model.load_state_dict(torch.load(os.path.join('src',config.MODEL_PATH)))\n",
    "model.to(device);"
   ]
  },
  {
   "cell_type": "code",
   "execution_count": 50,
   "metadata": {},
   "outputs": [],
   "source": [
    "def sentence_prediction(sentence):\n",
    "    model.eval()\n",
    "    tokenizer = config.TOKENIZER\n",
    "    max_length = config.MAX_LENGTH\n",
    "    review = str(sentence)\n",
    "    review = \" \".join(review.split())\n",
    "    inputs = tokenizer.encode_plus(\n",
    "            review,\n",
    "            None, \n",
    "            add_special_tokens = True,\n",
    "            max_length = max_length,\n",
    "            pad_to_max_length=True\n",
    "            )\n",
    "    ids = inputs['input_ids']\n",
    "    mask = inputs['attention_mask']\n",
    "    token_type_ids = inputs['token_type_ids']\n",
    "\n",
    "    ids = torch.tensor(ids, dtype=torch.long).unsqueeze(0) #unsqueeze to make batch_size 1\n",
    "    mask =  torch.tensor(mask, dtype=torch.long).unsqueeze(0)\n",
    "    token_type_ids = torch.tensor(token_type_ids, dtype=torch.long).unsqueeze(0)\n",
    "\n",
    "    \n",
    "    ids = ids.to(device, dtype=torch.long)\n",
    "    mask = mask.to(device, dtype=torch.long)\n",
    "    token_type_ids = token_type_ids.to(device, dtype=torch.long)\n",
    "#     targets = targets.to(device, dtype=torch.float)\n",
    "    outputs = model(\n",
    "                ids=ids,\n",
    "                mask=mask,\n",
    "                token_type_ids=token_type_ids\n",
    "                )\n",
    "    outputs = torch.sigmoid(outputs)\n",
    "    return outputs[0][0].cpu().detach().numpy()"
   ]
  },
  {
   "cell_type": "code",
   "execution_count": 51,
   "metadata": {},
   "outputs": [
    {
     "data": {
      "text/plain": [
       "array(0.48731622, dtype=float32)"
      ]
     },
     "execution_count": 51,
     "metadata": {},
     "output_type": "execute_result"
    }
   ],
   "source": [
    "input_sentence = \"This isn't just a beautifully crafted gangster film. Or an outstanding family portrait, \\\n",
    "                 for that matter. An amazing period piece. A character study. A lesson in filmmaking and an \\\n",
    "                 inspiration to generations of actors, directors, screenwriters and producers. For me, this is more: \\\n",
    "                 this is the definitive film. 10 stars out of 10.\"\n",
    "sentence_prediction(input_sentence)"
   ]
  },
  {
   "cell_type": "code",
   "execution_count": null,
   "metadata": {},
   "outputs": [],
   "source": []
  }
 ],
 "metadata": {
  "kernelspec": {
   "display_name": "Python 3",
   "language": "python",
   "name": "python3"
  },
  "language_info": {
   "codemirror_mode": {
    "name": "ipython",
    "version": 3
   },
   "file_extension": ".py",
   "mimetype": "text/x-python",
   "name": "python",
   "nbconvert_exporter": "python",
   "pygments_lexer": "ipython3",
   "version": "3.9.6 (default, Oct 18 2022, 12:41:40) \n[Clang 14.0.0 (clang-1400.0.29.202)]"
  },
  "vscode": {
   "interpreter": {
    "hash": "31f2aee4e71d21fbe5cf8b01ff0e069b9275f58929596ceb00d14d90e3e16cd6"
   }
  }
 },
 "nbformat": 4,
 "nbformat_minor": 4
}
